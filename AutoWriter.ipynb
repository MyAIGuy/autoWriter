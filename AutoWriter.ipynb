{
  "cells": [
    {
      "cell_type": "code",
      "execution_count": null,
      "metadata": {
        "colab": {
          "base_uri": "https://localhost:8080/"
        },
        "id": "FijB6dlZ5CLP",
        "outputId": "b5b014d8-dd5b-4ea2-c523-3df9429affe0"
      },
      "outputs": [],
      "source": [
        "!pip install gspread oauth2client openai"
      ]
    },
    {
      "cell_type": "code",
      "execution_count": null,
      "metadata": {
        "colab": {
          "base_uri": "https://localhost:8080/"
        },
        "id": "b-pIWKGrcVnY",
        "outputId": "da0bce37-4f32-4249-b4d0-456b693c4f80"
      },
      "outputs": [],
      "source": [
        "from google.colab import drive\n",
        "drive.mount('/content/drive')"
      ]
    },
    {
      "cell_type": "code",
      "execution_count": null,
      "metadata": {
        "colab": {
          "base_uri": "https://localhost:8080/",
          "height": 73
        },
        "id": "uZiLEX7rHIlH",
        "outputId": "beed832d-01f7-4030-fa55-6ac19336018a"
      },
      "outputs": [],
      "source": [
        "from google.colab import files\n",
        "\n",
        "uploaded = files.upload()"
      ]
    },
    {
      "cell_type": "code",
      "execution_count": null,
      "metadata": {
        "id": "byR9NMMoD3S3"
      },
      "outputs": [],
      "source": [
        "import gspread\n",
        "from oauth2client.service_account import ServiceAccountCredentials\n",
        "\n",
        "scope = ['https://www.googleapis.com/auth/spreadsheets',\n",
        "    'https://www.googleapis.com/auth/drive']\n",
        "credentials = ServiceAccountCredentials.from_json_keyfile_name('[CREDENTIALS_FILE]', scope)\n",
        "client = gspread.authorize(credentials)\n",
        "\n",
        "sheet = client.open(\"[GOOGLE_SHEET_NAME]\").sheet1\n",
        "keywords = sheet.col_values(1) # Assuming the keywords are in column A"
      ]
    },
    {
      "cell_type": "code",
      "execution_count": null,
      "metadata": {
        "id": "h-LY7TFpFMCK"
      },
      "outputs": [],
      "source": [
        "## OPENAI API KEY BELOW\n",
        "\n",
        "import openai\n",
        "openai.api_key = '[OPENAI_API_KEY]'\n",
        "\n",
        "## OPENAI API KEY ABOVE"
      ]
    },
    {
      "cell_type": "code",
      "execution_count": null,
      "metadata": {
        "colab": {
          "base_uri": "https://localhost:8080/"
        },
        "id": "jY61NBylFkcp",
        "outputId": "6880813a-6ed5-4320-8436-a991dd10c1e9"
      },
      "outputs": [],
      "source": [
        "from googleapiclient.discovery import build\n",
        "import openai\n",
        "\n",
        "# Set up the Google Docs API client\n",
        "docs_service = build('docs', 'v1', credentials=credentials)\n",
        "# Set up the Google Drive API client\n",
        "drive_service = build('drive', 'v3', credentials=credentials)\n",
        "\n",
        "data = sheet.get_all_values()\n",
        "\n",
        "# Separate into two lists\n",
        "keywords = [row[0] for row in data]\n",
        "status = [row[1] if len(row) > 1 else '' for row in data]\n",
        "# intents = [row[2] if len(row) > 2 else '' for row in data]\n",
        "# styles = [row[3] if len(row) > 3 else '' for row in data]\n",
        "\n",
        "for keyword, mark in zip(keywords, status):\n",
        "    # Check if the keyword is not processed yet (mark would be empty)\n",
        "    if keyword.strip() and not mark:\n",
        "        print(f\"Processing keyword {keyword}...\")\n",
        "        # Rest of your code to handle the keyword\n",
        "    else:\n",
        "        print(f\"Skipping empty keyword or already marked keyword: {keyword}\")\n",
        "\n",
        "    if not mark:\n",
        "        # Generate the content using OpenAI API\n",
        "        content = openai.Completion.create(\n",
        "          engine=\"text-davinci-003\",\n",
        "          prompt=f\"I need an outline for a professional 6-7 section blog for the keyword {keyword}. This blog article will be written with targeted precision for this keyword, and to meet Google's E-A-T standards. It is imperative the outline should be formatted as follows: [Roman Numeral](Section Title) [A.](bulletpoint 1) [B.](bulletpoint 2) [C.](bulletpoint 3)\",\n",
        "          max_tokens=3980\n",
        "        )\n",
        "\n",
        "        # Create a new Google Document\n",
        "        document = docs_service.documents().create().execute()\n",
        "        # Document ID of the created Google Document\n",
        "        document_id = document['documentId']\n",
        "\n",
        "        # Write the content to the Google Document\n",
        "        requests = [\n",
        "            {\n",
        "                'insertText': {\n",
        "                    'location': {\n",
        "                        'index': 1,\n",
        "                    },\n",
        "                    'text': content.choices[0].text\n",
        "                }\n",
        "            }\n",
        "        ]\n",
        "        docs_service.documents().batchUpdate(documentId=document['documentId'], body={'requests': requests}).execute()\n",
        "\n",
        "        print(f\"Document created for keyword {keyword} with Document ID: {document['documentId']}\")\n",
        "\n",
        "        # Mark the keyword as processed in the Google Sheet by writing the Document ID\n",
        "        sheet.update_cell(keywords.index(keyword) + 1, 2, document['documentId'])\n",
        "\n",
        "        # Define the permissions to add\n",
        "        permissions = {\n",
        "            'role': 'writer',\n",
        "            'type': 'anyone'\n",
        "        }\n",
        "\n",
        "        # Update the permissions for the document\n",
        "        drive_service.permissions().create(\n",
        "            fileId=document_id,\n",
        "            body=permissions\n",
        "        ).execute()\n"
      ]
    },
    {
      "cell_type": "code",
      "execution_count": null,
      "metadata": {
        "colab": {
          "base_uri": "https://localhost:8080/"
        },
        "id": "dxTmAKYmR6H_",
        "outputId": "cda22c22-6338-4430-88ff-36d8f34da98a"
      },
      "outputs": [],
      "source": [
        "import re\n",
        "import openai\n",
        "\n",
        "from googleapiclient.discovery import build\n",
        "\n",
        "spreadsheet = client.open('[GOOGLE_SHEET_NAME]')\n",
        "\n",
        "# Get the spreadsheet ID\n",
        "spreadsheet_id = spreadsheet.id\n",
        "\n",
        "# Build services\n",
        "docs_service = build('docs', 'v1', credentials=credentials)\n",
        "drive_service = build('drive', 'v3', credentials=credentials)\n",
        "\n",
        "# Now, use the googleapiclient's Sheets API to get the data from column B\n",
        "sheet_service = build('sheets', 'v4', credentials=credentials)\n",
        "range_ = 'Sheet1!B:B' # Adjust this to your specific sheet and column\n",
        "result = sheet_service.spreadsheets().values().get(spreadsheetId=spreadsheet_id, range=range_).execute()\n",
        "document_ids = result.get('values', [])\n",
        "\n",
        "# Get rows from columns A to C\n",
        "result = sheet_service.spreadsheets().values().get(spreadsheetId=spreadsheet_id, range='Sheet1!A1:C').execute()\n",
        "values = result.get('values', [])\n",
        "\n",
        "# Process each row\n",
        "for row_number, row in enumerate(values, start=1):\n",
        "    if len(row) >= 2:\n",
        "        document_id = row[1]\n",
        "        print(f\"Processing document {row_number}: {document_id}\")\n",
        "        if document_id and (len(row) < 3 or not row[2]):\n",
        "            document = docs_service.documents().get(documentId=document_id).execute()\n",
        "            paragraphs = [element['paragraph'] for element in document['body']['content'] if 'paragraph' in element]\n",
        "            paragraph_texts = [paragraph['elements'][0]['textRun']['content'] for paragraph in paragraphs if paragraph['elements']]\n",
        "\n",
        "            sections = []\n",
        "            current_section = \"\"\n",
        "            for text in paragraph_texts:\n",
        "                if re.match(r'^[IVX]+\\.', text.strip()):\n",
        "                    if current_section:\n",
        "                        sections.append(current_section)\n",
        "                    current_section = text\n",
        "                    print(f\"Starting new section with text: {text}\")\n",
        "                else:\n",
        "                    current_section += text\n",
        "                    print(f\"Appending to current section: {text}\")\n",
        "            if current_section:\n",
        "                sections.append(current_section)\n",
        "\n",
        "            sections = [section.strip('\\n') for section in sections]\n",
        "            openai_api_responses = []\n",
        "            for paragraph in sections:\n",
        "                if paragraph.strip():\n",
        "                    print(f\"Section: {paragraph}\")\n",
        "                    response = openai.ChatCompletion.create(\n",
        "                        model=\"gpt-3.5-turbo\",\n",
        "                        messages=[\n",
        "                            {\"role\": \"system\", \"content\": \"You are a pulitzer prize winning [PUT YOUR NICHE HERE] writer\"},\n",
        "                            {\"role\": \"user\", \"content\": f\"I will give you one section of an outline, The Title (which is a Roman Numeral), and lettered bullet points. I need you to write the Roman Numeral Title at the top, and write about 350 words about the lettered bullet points provided. Please write in an style that is professional but also excited, making sure to generate intrigue about a groundbreaking technology (AI) and how business owners can apply it to their business. Make it meet Google's E-A-T standards. You must take note that this section is just a piece of a whole blog article, not the entire whole article, so consider that in your writing. Please only use 100% unique human-written content. Here is the outline section: {paragraph}\"},\n",
        "                        ]\n",
        "                    )\n",
        "                    print(f\"API response for paragraph '{paragraph[:50]}...': {response}\")\n",
        "                    response_text = response['choices'][0]['message']['content']\n",
        "                    openai_api_responses.append(response_text + \"\\n\\n\")\n",
        "\n",
        "            openai_api_responses = openai_api_responses[::-1]\n",
        "            new_document = docs_service.documents().create().execute()\n",
        "            new_document_id = new_document['documentId']\n",
        "\n",
        "            for response in openai_api_responses:\n",
        "                if response:\n",
        "                    docs_service.documents().batchUpdate(\n",
        "                        documentId=new_document_id,\n",
        "                        body={\n",
        "                            'requests': [\n",
        "                                {'insertText': {\n",
        "                                    'location': {\n",
        "                                        'index': 1,\n",
        "                                    },\n",
        "                                    'text': response\n",
        "                                }}\n",
        "                            ]\n",
        "                        }\n",
        "                    ).execute()\n",
        "                else:\n",
        "                    print(\"Skipping empty response\")\n",
        "            print(\"Document ID: \", new_document_id)\n",
        "\n",
        "            update_range = f'Sheet1!C{row_number}' # Update the row dynamically\n",
        "            sheet_service.spreadsheets().values().update(\n",
        "                spreadsheetId=spreadsheet_id,\n",
        "                range=update_range,\n",
        "                valueInputOption=\"RAW\",\n",
        "                body={\n",
        "                    \"values\": [[new_document_id]]\n",
        "                }\n",
        "            ).execute()\n",
        "\n",
        "            # Define the permissions to add\n",
        "            permissions = {\n",
        "                'role': 'writer',\n",
        "                'type': 'anyone'\n",
        "            }\n",
        "\n",
        "            # Update the permissions for the document\n",
        "            drive_service.permissions().create(\n",
        "                fileId=new_document_id,\n",
        "                body=permissions\n",
        "            ).execute()"
      ]
    }
  ],
  "metadata": {
    "colab": {
      "provenance": []
    },
    "kernelspec": {
      "display_name": "Python 3",
      "name": "python3"
    },
    "language_info": {
      "name": "python"
    }
  },
  "nbformat": 4,
  "nbformat_minor": 0
}
